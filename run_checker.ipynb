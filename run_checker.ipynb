{
 "cells": [
  {
   "cell_type": "markdown",
   "metadata": {},
   "source": [
    "# do not touch these two cells"
   ]
  },
  {
   "cell_type": "code",
   "execution_count": null,
   "metadata": {},
   "outputs": [],
   "source": [
    "gROOT->Reset();"
   ]
  },
  {
   "cell_type": "code",
   "execution_count": 1,
   "metadata": {},
   "outputs": [],
   "source": [
    ".L run_checker.cpp"
   ]
  },
  {
   "cell_type": "markdown",
   "metadata": {},
   "source": [
    "# insert run_number inside function argument"
   ]
  },
  {
   "cell_type": "code",
   "execution_count": 2,
   "metadata": {},
   "outputs": [
    {
     "name": "stdout",
     "output_type": "stream",
     "text": [
      "run number is: 355234411\n",
      "Looking for .root files...\n",
      "analysis is OK\n"
     ]
    },
    {
     "name": "stderr",
     "output_type": "stream",
     "text": [
      "Info in <TCanvas::Print>: png file ./run_checker/run355234411_residualsXY.png has been created\n",
      "Warning in <TCanvas::Constructor>: Deleting canvas with same name: c1\n",
      "Info in <TCanvas::Print>: png file ./run_checker/run355234411_totalEfficiency.png has been created\n",
      "Warning in <TCanvas::Constructor>: Deleting canvas with same name: c1\n",
      "Info in <TCanvas::Print>: png file ./run_checker/run355234411_chipEfficiencyMap_trackPos.png has been created\n"
     ]
    },
    {
     "name": "stdout",
     "output_type": "stream",
     "text": [
      "prealignment is OK\n"
     ]
    },
    {
     "name": "stderr",
     "output_type": "stream",
     "text": [
      "Warning in <TCanvas::Constructor>: Deleting canvas with same name: c1\n"
     ]
    },
    {
     "name": "stdout",
     "output_type": "stream",
     "text": [
      " FCN=25713.9 FROM MIGRAD    STATUS=CONVERGED     209 CALLS         210 TOTAL\n",
      "                     EDM=5.53478e-07    STRATEGY= 1      ERROR MATRIX ACCURATE \n",
      "  EXT PARAMETER                                   STEP         FIRST   \n",
      "  NO.   NAME      VALUE            ERROR          SIZE      DERIVATIVE \n",
      "   1  Constant     1.69935e+04   5.95108e+01   3.54521e+00  -8.22849e-06\n",
      "   2  Mean        -7.47117e+00   1.76762e-04   1.37983e-05  -5.39347e+00\n",
      "   3  Sigma        6.61427e-02   1.50241e-04   8.68968e-06  -9.38892e-01\n",
      " FCN=31171.9 FROM MIGRAD    STATUS=CONVERGED     295 CALLS         296 TOTAL\n",
      "                     EDM=1.18257e-09    STRATEGY= 1  ERROR MATRIX UNCERTAINTY   2.5 per cent\n",
      "  EXT PARAMETER                                   STEP         FIRST   \n",
      "  NO.   NAME      VALUE            ERROR          SIZE      DERIVATIVE \n",
      "   1  Constant     1.50118e+04   5.26863e+01   9.31914e-02   9.43107e-07\n",
      "   2  Mean        -1.08872e+00   2.03971e-04   3.45558e-07   2.22249e-01\n",
      "   3  Sigma        7.46334e-02   1.70110e-04  -1.27218e-07   1.06635e-01\n",
      "number of analysis.root files: 1\n",
      "number of prealignment.root files: 1\n",
      "number of alignment.root files: 1\n"
     ]
    },
    {
     "name": "stderr",
     "output_type": "stream",
     "text": [
      "Info in <TCanvas::Print>: png file ./run_checker/run355234411_prealignment_DUTcorrelations.png has been created\n"
     ]
    }
   ],
   "source": [
    "run_checker(\"run355234411_200829003950\");"
   ]
  },
  {
   "cell_type": "code",
   "execution_count": null,
   "metadata": {},
   "outputs": [],
   "source": []
  }
 ],
 "metadata": {
  "kernelspec": {
   "display_name": "ROOT C++",
   "language": "c++",
   "name": "root"
  },
  "language_info": {
   "codemirror_mode": "text/x-c++src",
   "file_extension": ".C",
   "mimetype": " text/x-c++src",
   "name": "c++"
  }
 },
 "nbformat": 4,
 "nbformat_minor": 4
}
